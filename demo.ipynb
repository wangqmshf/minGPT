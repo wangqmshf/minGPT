{
 "cells": [
  {
   "cell_type": "markdown",
   "metadata": {},
   "source": [
    "A cute little demo showing the simplest usage of minGPT. Configured to run fine on Macbook Air in like a minute."
   ]
  },
  {
   "cell_type": "code",
   "execution_count": 1,
   "metadata": {},
   "outputs": [],
   "source": [
    "import torch\n",
    "from torch.utils.data import Dataset\n",
    "from torch.utils.data.dataloader import DataLoader\n",
    "from mingpt.utils import set_seed\n",
    "set_seed(3407)"
   ]
  },
  {
   "cell_type": "code",
   "execution_count": 2,
   "metadata": {},
   "outputs": [
    {
     "data": {
      "text/plain": [
       "True"
      ]
     },
     "execution_count": 2,
     "metadata": {},
     "output_type": "execute_result"
    }
   ],
   "source": [
    "import torch\n",
    "torch.cuda.is_available()"
   ]
  },
  {
   "cell_type": "code",
   "execution_count": 24,
   "metadata": {},
   "outputs": [],
   "source": [
    "import pickle\n",
    "\n",
    "class SortDataset(Dataset):\n",
    "    \"\"\" \n",
    "    Dataset for the Sort problem. E.g. for problem length 6:\n",
    "    Input: 0 0 2 1 0 1 -> Output: 0 0 0 1 1 2\n",
    "    Which will feed into the transformer concatenated as:\n",
    "    input:  0 0 2 1 0 1 0 0 0 1 1\n",
    "    output: I I I I I 0 0 0 1 1 2\n",
    "    where I is \"ignore\", as the transformer is reading the input sequence\n",
    "    \"\"\"\n",
    "\n",
    "    def __init__(self, split, length=6, num_digits=10):\n",
    "        assert split in {'train', 'test'}\n",
    "        self.split = split\n",
    "        self.length = length\n",
    "        self.num_digits = num_digits\n",
    "    \n",
    "    def __len__(self):\n",
    "        return 10000 # ...\n",
    "    \n",
    "    def get_vocab_size(self):\n",
    "        return self.num_digits\n",
    "    \n",
    "    def get_block_size(self):\n",
    "        # the length of the sequence that will feed into transformer, \n",
    "        # containing concatenated input and the output, but -1 because\n",
    "        # the transformer starts making predictions at the last input element\n",
    "        return self.length * 2 - 1\n",
    "\n",
    "    def __getitem__(self, idx):\n",
    "        \n",
    "        # use rejection sampling to generate an input example from the desired split\n",
    "        while True:\n",
    "            # generate some random integers\n",
    "            inp = torch.randint(self.num_digits, size=(self.length,), dtype=torch.long)\n",
    "            # half of the time let's try to boost the number of examples that \n",
    "            # have a large number of repeats, as this is what the model seems to struggle\n",
    "            # with later in training, and they are kind of rate\n",
    "            if torch.rand(1).item() < 0.5:\n",
    "                if inp.unique().nelement() > self.length // 2:\n",
    "                    # too many unqiue digits, re-sample\n",
    "                    continue\n",
    "            # figure out if this generated example is train or test based on its hash\n",
    "            h = hash(pickle.dumps(inp.tolist()))\n",
    "            inp_split = 'test' if h % 4 == 0 else 'train' # designate 25% of examples as test\n",
    "            if inp_split == self.split:\n",
    "                break # ok\n",
    "        \n",
    "        # solve the task: i.e. sort\n",
    "        sol = torch.sort(inp)[0]\n",
    "\n",
    "        # concatenate the problem specification and the solution\n",
    "        cat = torch.cat((inp, sol), dim=0)\n",
    "\n",
    "        # the inputs to the transformer will be the offset sequence\n",
    "        x = cat[:-1].clone()\n",
    "        y = cat[1:].clone()\n",
    "        # we only want to predict at output locations, mask out the loss at the input locations\n",
    "        y[:self.length-1] = -1\n",
    "        return x, y\n"
   ]
  },
  {
   "cell_type": "code",
   "execution_count": 30,
   "metadata": {},
   "outputs": [
    {
     "name": "stdout",
     "output_type": "stream",
     "text": [
      "1 -1\n",
      "2 -1\n",
      "0 -1\n",
      "1 -1\n",
      "4 -1\n",
      "9 0\n",
      "0 1\n",
      "1 1\n",
      "1 2\n",
      "2 4\n",
      "4 9\n"
     ]
    }
   ],
   "source": [
    "# print an example instance of the dataset\n",
    "train_dataset = SortDataset('train')\n",
    "test_dataset = SortDataset('test')\n",
    "x, y = train_dataset[0]\n",
    "for a, b in zip(x,y):\n",
    "    print(int(a),int(b))"
   ]
  },
  {
   "cell_type": "code",
   "execution_count": 31,
   "metadata": {},
   "outputs": [
    {
     "name": "stdout",
     "output_type": "stream",
     "text": [
      "number of parameters: 0.09M\n"
     ]
    }
   ],
   "source": [
    "# create a GPT instance\n",
    "from mingpt.model import GPT\n",
    "\n",
    "model_config = GPT.get_default_config()\n",
    "model_config.model_type = 'gpt-nano'\n",
    "model_config.vocab_size = train_dataset.get_vocab_size()\n",
    "model_config.block_size = train_dataset.get_block_size()\n",
    "model = GPT(model_config)"
   ]
  },
  {
   "cell_type": "code",
   "execution_count": 41,
   "metadata": {},
   "outputs": [
    {
     "name": "stdout",
     "output_type": "stream",
     "text": [
      "running on device cpu\n"
     ]
    }
   ],
   "source": [
    "# create a Trainer object\n",
    "from mingpt.trainer import Trainer\n",
    "\n",
    "train_config = Trainer.get_default_config()\n",
    "train_config.learning_rate = 3e-4 # the model we're using is so small that we can go a bit faster\n",
    "train_config.max_iters = 6000\n",
    "train_config.num_workers = 0\n",
    "trainer = Trainer(train_config, model, train_dataset)"
   ]
  },
  {
   "cell_type": "code",
   "execution_count": 42,
   "metadata": {},
   "outputs": [
    {
     "name": "stdout",
     "output_type": "stream",
     "text": [
      "iter_dt 0.00ms; iter 0: train loss 0.03738\n",
      "iter_dt 73.12ms; iter 100: train loss 0.00395\n",
      "iter_dt 70.81ms; iter 200: train loss 0.00224\n",
      "iter_dt 76.79ms; iter 300: train loss 0.01147\n",
      "iter_dt 76.79ms; iter 400: train loss 0.00401\n",
      "iter_dt 70.81ms; iter 500: train loss 0.00375\n",
      "iter_dt 77.79ms; iter 600: train loss 0.00283\n",
      "iter_dt 80.78ms; iter 700: train loss 0.00630\n",
      "iter_dt 86.79ms; iter 800: train loss 0.00796\n",
      "iter_dt 70.81ms; iter 900: train loss 0.01967\n",
      "iter_dt 70.81ms; iter 1000: train loss 0.01536\n",
      "iter_dt 75.80ms; iter 1100: train loss 0.00292\n",
      "iter_dt 75.36ms; iter 1200: train loss 0.01621\n",
      "iter_dt 73.80ms; iter 1300: train loss 0.00995\n",
      "iter_dt 72.80ms; iter 1400: train loss 0.03542\n",
      "iter_dt 87.11ms; iter 1500: train loss 0.02042\n",
      "iter_dt 71.81ms; iter 1600: train loss 0.00612\n",
      "iter_dt 68.42ms; iter 1700: train loss 0.02042\n",
      "iter_dt 73.80ms; iter 1800: train loss 0.00253\n",
      "iter_dt 71.81ms; iter 1900: train loss 0.00485\n",
      "iter_dt 79.23ms; iter 2000: train loss 0.01726\n",
      "iter_dt 98.17ms; iter 2100: train loss 0.01672\n",
      "iter_dt 78.79ms; iter 2200: train loss 0.00646\n",
      "iter_dt 69.81ms; iter 2300: train loss 0.01061\n",
      "iter_dt 65.82ms; iter 2400: train loss 0.00415\n",
      "iter_dt 74.80ms; iter 2500: train loss 0.01116\n",
      "iter_dt 67.82ms; iter 2600: train loss 0.00523\n",
      "iter_dt 69.39ms; iter 2700: train loss 0.01272\n",
      "iter_dt 71.81ms; iter 2800: train loss 0.00618\n",
      "iter_dt 93.75ms; iter 2900: train loss 0.00091\n",
      "iter_dt 82.78ms; iter 3000: train loss 0.02328\n",
      "iter_dt 91.76ms; iter 3100: train loss 0.00720\n",
      "iter_dt 77.79ms; iter 3200: train loss 0.00694\n",
      "iter_dt 77.79ms; iter 3300: train loss 0.01219\n",
      "iter_dt 102.40ms; iter 3400: train loss 0.01060\n",
      "iter_dt 70.83ms; iter 3500: train loss 0.01083\n",
      "iter_dt 78.41ms; iter 3600: train loss 0.00256\n",
      "iter_dt 74.80ms; iter 3700: train loss 0.01117\n",
      "iter_dt 77.07ms; iter 3800: train loss 0.00418\n",
      "iter_dt 80.79ms; iter 3900: train loss 0.01987\n",
      "iter_dt 76.79ms; iter 4000: train loss 0.00219\n",
      "iter_dt 68.82ms; iter 4100: train loss 0.00744\n",
      "iter_dt 68.46ms; iter 4200: train loss 0.01245\n",
      "iter_dt 81.78ms; iter 4300: train loss 0.00492\n",
      "iter_dt 73.80ms; iter 4400: train loss 0.01463\n",
      "iter_dt 66.82ms; iter 4500: train loss 0.02231\n",
      "iter_dt 71.81ms; iter 4600: train loss 0.00032\n",
      "iter_dt 99.73ms; iter 4700: train loss 0.00913\n",
      "iter_dt 69.81ms; iter 4800: train loss 0.01356\n",
      "iter_dt 70.81ms; iter 4900: train loss 0.01250\n",
      "iter_dt 79.08ms; iter 5000: train loss 0.01621\n",
      "iter_dt 73.80ms; iter 5100: train loss 0.00093\n",
      "iter_dt 74.80ms; iter 5200: train loss 0.00602\n",
      "iter_dt 85.77ms; iter 5300: train loss 0.00556\n",
      "iter_dt 69.81ms; iter 5400: train loss 0.01490\n",
      "iter_dt 69.81ms; iter 5500: train loss 0.02583\n",
      "iter_dt 70.81ms; iter 5600: train loss 0.01023\n",
      "iter_dt 73.80ms; iter 5700: train loss 0.00775\n",
      "iter_dt 139.63ms; iter 5800: train loss 0.00327\n",
      "iter_dt 84.77ms; iter 5900: train loss 0.00321\n"
     ]
    }
   ],
   "source": [
    "def batch_end_callback(trainer):\n",
    "    if trainer.iter_num % 100 == 0:\n",
    "        print(f\"iter_dt {trainer.iter_dt * 1000:.2f}ms; iter {trainer.iter_num}: train loss {trainer.loss.item():.5f}\")\n",
    "trainer.set_callback('on_batch_end', batch_end_callback)\n",
    "\n",
    "trainer.run()"
   ]
  },
  {
   "cell_type": "code",
   "execution_count": 43,
   "metadata": {},
   "outputs": [],
   "source": [
    "# now let's perform some evaluation\n",
    "model.eval();"
   ]
  },
  {
   "cell_type": "code",
   "execution_count": 44,
   "metadata": {},
   "outputs": [
    {
     "name": "stdout",
     "output_type": "stream",
     "text": [
      "train final score: 5000/5000 = 100.00% correct\n",
      "test final score: 5000/5000 = 100.00% correct\n"
     ]
    }
   ],
   "source": [
    "def eval_split(trainer, split, max_batches):\n",
    "    dataset = {'train':train_dataset, 'test':test_dataset}[split]\n",
    "    n = train_dataset.length # naugy direct access shrug\n",
    "    results = []\n",
    "    mistakes_printed_already = 0\n",
    "    loader = DataLoader(dataset, batch_size=100, num_workers=0, drop_last=False)\n",
    "    for b, (x, y) in enumerate(loader):\n",
    "        x = x.to(trainer.device)\n",
    "        y = y.to(trainer.device)\n",
    "        # isolate the input pattern alone\n",
    "        inp = x[:, :n]\n",
    "        sol = y[:, -n:]\n",
    "        # let the model sample the rest of the sequence\n",
    "        cat = model.generate(inp, n, do_sample=False) # using greedy argmax, not sampling\n",
    "        sol_candidate = cat[:, n:] # isolate the filled in sequence\n",
    "        # compare the predicted sequence to the true sequence\n",
    "        correct = (sol == sol_candidate).all(1).cpu() # Software 1.0 vs. Software 2.0 fight RIGHT on this line haha\n",
    "        for i in range(x.size(0)):\n",
    "            results.append(int(correct[i]))\n",
    "            if not correct[i] and mistakes_printed_already < 3: # only print up to 5 mistakes to get a sense\n",
    "                mistakes_printed_already += 1\n",
    "                print(\"GPT claims that %s sorted is %s but gt is %s\" % (inp[i].tolist(), sol_candidate[i].tolist(), sol[i].tolist()))\n",
    "        if max_batches is not None and b+1 >= max_batches:\n",
    "            break\n",
    "    rt = torch.tensor(results, dtype=torch.float)\n",
    "    print(\"%s final score: %d/%d = %.2f%% correct\" % (split, rt.sum(), len(results), 100*rt.mean()))\n",
    "    return rt.sum()\n",
    "\n",
    "# run a lot of examples from both train and test through the model and verify the output correctness\n",
    "with torch.no_grad():\n",
    "    train_score = eval_split(trainer, 'train', max_batches=50)\n",
    "    test_score  = eval_split(trainer, 'test',  max_batches=50)"
   ]
  },
  {
   "cell_type": "code",
   "execution_count": 46,
   "metadata": {},
   "outputs": [
    {
     "name": "stdout",
     "output_type": "stream",
     "text": [
      "input sequence  : [[1, 3, 2, 1, 5, 9]]\n",
      "predicted sorted: [[1, 1, 2, 3, 5, 9]]\n",
      "gt sort         : [1, 1, 2, 3, 5, 9]\n",
      "matches         : True\n"
     ]
    }
   ],
   "source": [
    "# let's run a random given sequence through the model as well\n",
    "n = train_dataset.length # naugy direct access shrug\n",
    "inp = torch.tensor([[1, 3, 2, 1, 5, 9]], dtype=torch.long).to(trainer.device)\n",
    "assert inp[0].nelement() == n\n",
    "with torch.no_grad():\n",
    "    cat = model.generate(inp, n, do_sample=False)\n",
    "sol = torch.sort(inp[0])[0]\n",
    "sol_candidate = cat[:, n:]\n",
    "print('input sequence  :', inp.tolist())\n",
    "print('predicted sorted:', sol_candidate.tolist())\n",
    "print('gt sort         :', sol.tolist())\n",
    "print('matches         :', bool((sol == sol_candidate).all()))"
   ]
  }
 ],
 "metadata": {
  "kernelspec": {
   "display_name": "Python 3.10.4 64-bit",
   "language": "python",
   "name": "python3"
  },
  "language_info": {
   "codemirror_mode": {
    "name": "ipython",
    "version": 3
   },
   "file_extension": ".py",
   "mimetype": "text/x-python",
   "name": "python",
   "nbconvert_exporter": "python",
   "pygments_lexer": "ipython3",
   "version": "3.8.1"
  },
  "orig_nbformat": 4,
  "vscode": {
   "interpreter": {
    "hash": "3ad933181bd8a04b432d3370b9dc3b0662ad032c4dfaa4e4f1596c548f763858"
   }
  }
 },
 "nbformat": 4,
 "nbformat_minor": 2
}
